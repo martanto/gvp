{
 "cells": [
  {
   "metadata": {},
   "cell_type": "code",
   "source": "from gvp import GVP",
   "id": "35769dd8bbc6d33d",
   "outputs": [],
   "execution_count": null
  },
  {
   "metadata": {},
   "cell_type": "code",
   "source": [
    "gvp = GVP(\n",
    "    output_dir=r\"D:\\Projects\\gvp\\output\", # Default to <current_dir>/output/\n",
    "    verbose=True # To show more information\n",
    ")"
   ],
   "id": "4d210833d1a94b50",
   "outputs": [],
   "execution_count": null
  },
  {
   "metadata": {},
   "cell_type": "code",
   "source": [
    "gvp.download(\n",
    "    retries=10, # Max attempt when download failed\n",
    "    timeout=2, # Waiting time per failed download\n",
    ")"
   ],
   "id": "1c371fe929daa6da",
   "outputs": [],
   "execution_count": null
  },
  {
   "metadata": {},
   "cell_type": "code",
   "source": "gvp.df",
   "id": "9da4d918a851b71f",
   "outputs": [],
   "execution_count": null
  }
 ],
 "metadata": {
  "kernelspec": {
   "display_name": "Python 3",
   "language": "python",
   "name": "python3"
  },
  "language_info": {
   "codemirror_mode": {
    "name": "ipython",
    "version": 2
   },
   "file_extension": ".py",
   "mimetype": "text/x-python",
   "name": "python",
   "nbconvert_exporter": "python",
   "pygments_lexer": "ipython2",
   "version": "2.7.6"
  }
 },
 "nbformat": 4,
 "nbformat_minor": 5
}
